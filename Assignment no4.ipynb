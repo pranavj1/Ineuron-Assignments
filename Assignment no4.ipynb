{
 "cells": [
  {
   "cell_type": "code",
   "execution_count": 17,
   "metadata": {},
   "outputs": [
    {
     "name": "stdout",
     "output_type": "stream",
     "text": [
      "989.9494936611666\n"
     ]
    }
   ],
   "source": [
    "#1.1\n",
    "class triangle:\n",
    "    def __init__(self,a,b,c):\n",
    "        self.a=a\n",
    "        self.b=b\n",
    "        self.c=c\n",
    "class a(triangle):\n",
    "    def area(self,):\n",
    "        s=self.a+self.b+self.c\n",
    "        return (s*(s-self.a)*(s-self.b)*(s-self.c)**0.5)\n",
    "            \n",
    "b=a(5,3,2)\n",
    "c=b.area()\n",
    "print(c)"
   ]
  },
  {
   "cell_type": "code",
   "execution_count": 19,
   "metadata": {},
   "outputs": [
    {
     "name": "stdout",
     "output_type": "stream",
     "text": [
      "['jifo', 'wfhiue']\n"
     ]
    }
   ],
   "source": [
    "#1.2\n",
    "def filter_long_words(l,n):\n",
    "    m=[]\n",
    "    for i in l:\n",
    "        if len(i)>n:\n",
    "            m.append(i)\n",
    "    return m\n",
    "\n",
    "print(filter_long_words(['jifo','wfj','wfhiue','iwh'],3))"
   ]
  },
  {
   "cell_type": "code",
   "execution_count": 20,
   "metadata": {},
   "outputs": [
    {
     "data": {
      "text/plain": [
       "[4, 3, 4]"
      ]
     },
     "execution_count": 20,
     "metadata": {},
     "output_type": "execute_result"
    }
   ],
   "source": [
    "#2.1\n",
    "def map(l):\n",
    "    m=[]\n",
    "    for i in l:\n",
    "        m.append(len(i))\n",
    "    return m\n",
    "map(['dcvd','vwe','vaed'])        "
   ]
  },
  {
   "cell_type": "code",
   "execution_count": 23,
   "metadata": {},
   "outputs": [
    {
     "data": {
      "text/plain": [
       "True"
      ]
     },
     "execution_count": 23,
     "metadata": {},
     "output_type": "execute_result"
    }
   ],
   "source": [
    "#2.2\n",
    "l=['a','e','i','o','u']\n",
    "def a(s):\n",
    "    if s in l:\n",
    "        return True\n",
    "    else:\n",
    "        return False\n",
    "a('a')"
   ]
  },
  {
   "cell_type": "code",
   "execution_count": null,
   "metadata": {},
   "outputs": [],
   "source": []
  }
 ],
 "metadata": {
  "kernelspec": {
   "display_name": "Python 3",
   "language": "python",
   "name": "python3"
  },
  "language_info": {
   "codemirror_mode": {
    "name": "ipython",
    "version": 3
   },
   "file_extension": ".py",
   "mimetype": "text/x-python",
   "name": "python",
   "nbconvert_exporter": "python",
   "pygments_lexer": "ipython3",
   "version": "3.8.5"
  }
  
 },
 "nbformat": 4,
 "nbformat_minor": 4
}
